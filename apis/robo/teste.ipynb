{
 "cells": [
  {
   "cell_type": "code",
   "execution_count": 2,
   "metadata": {},
   "outputs": [
    {
     "data": {
      "text/plain": [
       "3"
      ]
     },
     "execution_count": 2,
     "metadata": {},
     "output_type": "execute_result"
    }
   ],
   "source": [
    "import pandas as pd\n",
    "import numpy as np\n",
    "\n",
    "df = pd.DataFrame(columns = [\"a\", \"b\", \"c\"])\n",
    "df.shape[1]\n",
    "\n",
    "\n"
   ]
  },
  {
   "cell_type": "code",
   "execution_count": 9,
   "metadata": {},
   "outputs": [
    {
     "data": {
      "text/plain": [
       "['Airbag',\n",
       " 'Ar condicionado',\n",
       " 'Bancos de couro',\n",
       " 'Piloto automático',\n",
       " 'Rodas de liga',\n",
       " 'Travas elétricas',\n",
       " 'Vidros elétricos']"
      ]
     },
     "execution_count": 9,
     "metadata": {},
     "output_type": "execute_result"
    }
   ],
   "source": [
    "Acessorios = [\n",
    "    'Rodas de liga', \n",
    "    'Travas elétricas', \n",
    "    'Piloto automático',\n",
    "    'Bancos de couro',\n",
    "    'Ar condicionado',\n",
    "    'Airbag',\n",
    "    'Vidros elétricos'\n",
    "]\n",
    "Acessorios.sort()\n",
    "Acessorios\n"
   ]
  }
 ],
 "metadata": {
  "interpreter": {
   "hash": "3b7e9cb8e453d6cda0fe8c8dd13f891a1f09162f0e7c66ffeae7751a7aecf00d"
  },
  "kernelspec": {
   "display_name": "Python 3.10.4 64-bit (windows store)",
   "language": "python",
   "name": "python3"
  },
  "language_info": {
   "codemirror_mode": {
    "name": "ipython",
    "version": 3
   },
   "file_extension": ".py",
   "mimetype": "text/x-python",
   "name": "python",
   "nbconvert_exporter": "python",
   "pygments_lexer": "ipython3",
   "version": "3.10.4"
  },
  "orig_nbformat": 4
 },
 "nbformat": 4,
 "nbformat_minor": 2
}
