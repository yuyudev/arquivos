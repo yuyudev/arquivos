{
 "cells": [
  {
   "cell_type": "code",
   "execution_count": 51,
   "metadata": {},
   "outputs": [
    {
     "data": {
      "text/plain": [
       "Point(x=852, y=265)"
      ]
     },
     "execution_count": 51,
     "metadata": {},
     "output_type": "execute_result"
    }
   ],
   "source": [
    "import time\n",
    "\n",
    "time.sleep(3)\n",
    "pyautogui.position()"
   ]
  },
  {
   "cell_type": "code",
   "execution_count": 54,
   "metadata": {},
   "outputs": [],
   "source": [
    "#caminho\n",
    "\n",
    "import pyautogui\n",
    "pausa = time.sleep(5)\n",
    "\n",
    "#senha = input(\"Senha do LastPass\")\n",
    "#time.sleep(20)\n",
    "pyautogui.press(\"win\")\n",
    "pyautogui.write(\"chrome\")\n",
    "pyautogui.press(\"enter\")\n",
    "pyautogui.click(x=413, y=315)\n",
    "pyautogui.write(\"https://sensortower.com/\")\n",
    "pyautogui.press(\"enter\")\n",
    "pausa\n",
    "pyautogui.press(\"f11\")\n",
    "pausa\n",
    "pyautogui.click(x=1212, y=35)\n",
    "pausa\n",
    "pyautogui.click(x=852, y=265)\n",
    "pyautogui.click(x=858, y=268)\n",
    "#pausa\n",
    "#pyautogui.click(x=574, y=285)\n",
    "#pyautogui.write(senha)\n",
    "#pyautogui.press(\"enter\")\n",
    "#pyautogui.click(x=543, y=519)\n",
    "\n",
    "#sms = input(\"Digite o SMS Enviado\")\n",
    "\n",
    "#pyautogui.click(x=544, y=412)\n",
    "#pyautogui.write(sms)"
   ]
  },
  {
   "cell_type": "code",
   "execution_count": null,
   "metadata": {},
   "outputs": [],
   "source": [
    "#tratamento\n",
    "\n",
    "import pandas as pd\n",
    "import numpy as np\n",
    "\n",
    "#abrindo o arquuivo CSV\n",
    "\n",
    "df = pd.read_csv(\"teste.csv\", encoding = \"UTF-16\", sep = \"\t\")\n",
    "\n",
    "#identificação das colunas\n",
    "\n",
    "datas = df.T[\"2022-04-24\":\"2022-03-26\"]\n",
    "termos = df[\"Term\"]\n",
    "posicoes = df.T[\"2022-04-24\":\"2022-03-26\"]\n",
    "x = posicoes.to_numpy()\n",
    "\n",
    "#seleção dos dados de datas\n",
    "\n",
    "datas.reset_index(inplace=True)\n",
    "datas = datas[\"index\"]\n",
    "\n",
    "colunaTermos = column = termos\n",
    "colunaDatas = column = datas\n",
    "\n",
    "#colunaPosicao = column = 0\n",
    "\n",
    "#tratamento dos dados\n",
    "\n",
    "dados = []\n",
    "chave = []\n",
    "\n",
    "for i in x:\n",
    "    for y in i:\n",
    "        chave.append(y)\n",
    "i = 0\n",
    "\n",
    "for data in datas:\n",
    "    for termo in termos:\n",
    "        dados.append((data,termo,chave[i]))\n",
    "        i=i+1\n",
    "\n",
    "\n",
    "base = pd.DataFrame(dados, columns = [\"datas\", \"termos\", \"posição\"])\n",
    "\n",
    "base\n",
    "        \n"
   ]
  }
 ],
 "metadata": {
  "interpreter": {
   "hash": "3b7e9cb8e453d6cda0fe8c8dd13f891a1f09162f0e7c66ffeae7751a7aecf00d"
  },
  "kernelspec": {
   "display_name": "Python 3.10.4 64-bit (windows store)",
   "language": "python",
   "name": "python3"
  },
  "language_info": {
   "codemirror_mode": {
    "name": "ipython",
    "version": 3
   },
   "file_extension": ".py",
   "mimetype": "text/x-python",
   "name": "python",
   "nbconvert_exporter": "python",
   "pygments_lexer": "ipython3",
   "version": "3.10.4"
  },
  "orig_nbformat": 4
 },
 "nbformat": 4,
 "nbformat_minor": 2
}
