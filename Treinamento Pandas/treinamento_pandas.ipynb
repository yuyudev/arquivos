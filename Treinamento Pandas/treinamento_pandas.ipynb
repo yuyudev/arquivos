{
 "cells": [
  {
   "cell_type": "code",
   "execution_count": null,
   "metadata": {},
   "outputs": [],
   "source": [
    "import pandas as pd\n",
    "\n",
    "#selecione somente os imóveis classificados com tipo 'Apartamento'\n",
    "dados = pd.read_csv('aluguel.csv', sep=';')\n",
    "selecao = dados['Tipo'] == 'Apartamento'\n",
    "n1 = dados[selecao]\n",
    "n1"
   ]
  },
  {
   "cell_type": "code",
   "execution_count": null,
   "metadata": {},
   "outputs": [],
   "source": [
    "#Selecione os imóveis classificados com tipos 'Casa', 'Casa de Condomínio' e 'Casa de Vila'\n",
    "selecao = (dados['Tipo'] == 'Casa') | (dados['Tipo'] == 'Casa de Condomínio') | (dados['Tipo'] == 'Casa de Vila')\n",
    "n2 = dados[selecao]\n",
    "n2"
   ]
  },
  {
   "cell_type": "code",
   "execution_count": null,
   "metadata": {},
   "outputs": [],
   "source": [
    "# Selecione os imóveis com área entre 60 e 100 metros quadrados, incluindo os limites \n",
    "selecao = (dados['Area'] >= 60) & (dados['Area'] <= 100)\n",
    "n3 = dados[selecao] \n",
    "n3"
   ]
  },
  {
   "cell_type": "code",
   "execution_count": null,
   "metadata": {},
   "outputs": [],
   "source": [
    "# Selecione os imóveis que tenham pelo menos 4 quartos e aluguel menor que R$ 2.000,00\n",
    "selecao = (dados['Quartos'] >= 4) & (dados['Valor'] < 2000.0)\n",
    "n4 = dados[selecao]\n",
    "n4"
   ]
  },
  {
   "cell_type": "code",
   "execution_count": null,
   "metadata": {},
   "outputs": [],
   "source": [
    "import pandas as pd\n",
    "alunos = pd.DataFrame({'Nome': ['Ary', 'Cátia', 'Denis', 'Beto', 'Bruna', 'Dara', 'Carlos', 'Alice'], \n",
    "                        'Sexo': ['M', 'F', 'M', 'M', 'F', 'F', 'M', 'F'], \n",
    "                        'Idade': [15, 27, 56, 32, 42, 21, 19, 35], \n",
    "                        'Notas': [7.5, 2.5, 5.0, 10, 8.2, 7, 6, 5.6], \n",
    "                        'Aprovado': [True, False, False, True, True, True, False, False]}, \n",
    "                        columns = ['Nome', 'Idade', 'Sexo', 'Notas', 'Aprovado'])\n",
    "alunos.sort_values(by=['Idade'], inplace=True)\n",
    "alunos\n",
    "alunos[:3]\n"
   ]
  },
  {
   "cell_type": "code",
   "execution_count": null,
   "metadata": {},
   "outputs": [],
   "source": [
    "import pandas as pd\n",
    "\n",
    "dados = pd.read_csv('aluguel.csv', sep=';')\n",
    "dados.fillna({'Condominio': 0, 'IPTU': 0}, inplace=True)\n",
    "dados['Valor Bruto'] = dados['Valor'] + dados['Condominio'] + dados['IPTU']\n",
    "dados['Valor m2'] = (dados['Valor'] / dados['Area']).round(2)\n",
    "dados['Valor Bruto m2'] = (dados['Valor Bruto'] / dados['Area']).round(2)\n",
    "\n",
    "casa = ['Casa', 'Casa de Condomínio', 'Casa de Vila']\n",
    "dados['Tipo Agregado'] = dados['Tipo'].apply(lambda x: 'Casa' if x in casa else 'Apartamento')\n",
    "\n",
    "dados_aux = pd.DataFrame(dados[['Tipo Agregado', 'Valor m2', 'Valor Bruto', 'Valor Bruto m2']])\n",
    "\n",
    "del dados_aux['Valor Bruto']\n",
    "\n",
    "dados_aux.pop('Valor Bruto m2')\n",
    "\n",
    "dados.drop(['Valor Bruto', 'Valor Bruto m2'], axis=1, inplace=True)\n",
    "dados\n",
    "\n",
    "bairros = ['Barra da Tijuca', 'Copacabana', 'Ipanema', 'Leblon', 'Botafogo', 'Flamengo', 'Tijuca']\n",
    "selecao = dados['Bairro'].isin(bairros)\n",
    "dados = dados[selecao]\n",
    "grupo_bairro = dados.groupby('Bairro')\n",
    "\n",
    "for bairro, dados in grupo_bairro:\n",
    "    display(dados)"
   ]
  },
  {
   "cell_type": "code",
   "execution_count": null,
   "metadata": {},
   "outputs": [],
   "source": []
  },
  {
   "cell_type": "code",
   "execution_count": null,
   "metadata": {},
   "outputs": [],
   "source": [
    "%matplotlib inline\n",
    "import pandas as pd\n",
    "import matplotlib.pyplot as plt\n",
    "\n",
    "\n",
    "dados = pd.read_csv('aluguel_amostra.csv', sep=';')\n",
    "valor_m2 = dados['Valor m2'] \n",
    "\n",
    "Q1 = valor_m2.quantile(.25)\n",
    "Q3 = valor_m2.quantile(.75)\n",
    "IIQ = Q3-Q1\n",
    "limite_inferior = Q1 - 1.5 * IIQ\n",
    "limite_superior = Q3 + 1.5 * IIQ\n",
    "\n",
    "print(Q1,\n",
    "Q3,\n",
    "IIQ,\n",
    "limite_inferior,\n",
    "limite_superior)"
   ]
  },
  {
   "cell_type": "code",
   "execution_count": null,
   "metadata": {},
   "outputs": [],
   "source": [
    "import pandas as pd\n",
    "\n",
    "dados = pd.read_csv('aluguel.csv', sep=';')\n",
    "\n",
    "classes = [0,2,4,6,100]\n",
    "\n",
    "labels = ['1 e 2 quartos', '3 e 4 quartos', '5 e 6 quartos', '7 quartos ou mais']\n",
    "quartos = pd.cut(dados.Quartos, classes, labels=labels)\n",
    "pd.value_counts(quartos)"
   ]
  },
  {
   "cell_type": "code",
   "execution_count": null,
   "metadata": {},
   "outputs": [],
   "source": [
    "%matplotlib inline\n",
    "import pandas as pd\n",
    "import matplotlib.pyplot as plt\n",
    "\n",
    "plt.rc('figure', figsize(14,6))"
   ]
  },
  {
   "cell_type": "code",
   "execution_count": null,
   "metadata": {},
   "outputs": [],
   "source": [
    "\n",
    "\n",
    "dados[dados['Valor']>=500000].sort_values(by=['Valor'])\n",
    "\n",
    "valor = dados['Valor']\n",
    "\n",
    "Q1 = valor.quantile(.25)\n",
    "Q3 = valor.quantile(.75)\n",
    "IIQ = Q3-Q1\n",
    "limite_inferior = Q1 - 1.5 * IIQ\n",
    "limite_superior = Q3 + 1.5 * IIQ\n",
    "\n",
    "selecao = (valor >= limite_inferior) & (valor <= limite_superior)\n",
    "dados_new = dados[selecao]\n",
    "dados_new.boxplot(['Valor'], by='Tipo')\n"
   ]
  },
  {
   "cell_type": "code",
   "execution_count": null,
   "metadata": {},
   "outputs": [],
   "source": [
    "dados = pd.read_csv('aluguel_amostra.csv', sep=';')\n",
    "\n",
    "grupo_tipo=dados.groupby('Tipo')['Valor']\n",
    "Q1 = grupo_tipo.quantile(.25)\n",
    "Q3 = grupo_tipo.quantile(.75)\n",
    "IIQ = Q3-Q1\n",
    "limite_inferior = Q1 - 1.5 * IIQ\n",
    "limite_superior = Q3 + 1.5 * IIQ\n",
    "\n",
    "\n",
    "dados_new = pd.DataFrame()\n",
    "for tipo in grupo_tipo.groups.keys():\n",
    "    eh_tipo = dados['Tipo'] == tipo\n",
    "    eh_dentro_limite = (dados['Valor']>=limite_inferior[tipo]) & (dados['Valor']<=limite_superior[tipo])\n",
    "    selecao = eh_tipo & eh_dentro_limite\n",
    "    dados_selecao = dados[selecao]\n",
    "    dados_new = pd.concat([dados_new, dados_selecao])\n",
    "dados_new.boxplot(['Valor'], by=['Tipo'])\n"
   ]
  },
  {
   "cell_type": "code",
   "execution_count": 173,
   "metadata": {},
   "outputs": [
    {
     "data": {
      "text/plain": [
       "Text(0.5, 1.0, 'Total de Imóveis por Tipo')"
      ]
     },
     "execution_count": 173,
     "metadata": {},
     "output_type": "execute_result"
    },
    {
     "data": {
      "image/png": "[encoded data removed]",
      "text/plain": [
       "<Figure size 1080x504 with 2 Axes>"
      ]
     },
     "metadata": {},
     "output_type": "display_data"
    }
   ],
   "source": [
    "%matplotlib inline\n",
    "import pandas as pd\n",
    "import matplotlib.pyplot as plt\n",
    "plt.rc('figure', figsize = (15, 7))\n",
    "\n",
    "dados = pd.read_csv('aluguel_amostra.csv', sep = ';')\n",
    "\n",
    "area = plt.figure()\n",
    "g1 = area.add_subplot(1, 2, 1)\n",
    "g2 = area.add_subplot(1, 2, 2)\n",
    "grupo1 = dados.groupby('Tipo Agregado')['Valor']\n",
    "label = grupo1.count().index\n",
    "valores = grupo1.count().values\n",
    "g1.pie(valores, labels = label, autopct='%1.1f%%')\n",
    "g1.set_title('Total de Imóveis por Tipo Agregado')\n",
    "grupo2 = dados.groupby('Tipo')['Valor']\n",
    "label = grupo2.count().index\n",
    "valores = grupo2.count().values\n",
    "g2.pie(valores, labels = label, autopct='%1.1f%%', explode = (.1, .1, .1, .1, .1))\n",
    "g2.set_title('Total de Imóveis por Tipo')\n"
   ]
  }
 ],
 "metadata": {
  "kernelspec": {
   "display_name": "Python 3.10.5 64-bit",
   "language": "python",
   "name": "python3"
  },
  "language_info": {
   "codemirror_mode": {
    "name": "ipython",
    "version": 3
   },
   "file_extension": ".py",
   "mimetype": "text/x-python",
   "name": "python",
   "nbconvert_exporter": "python",
   "pygments_lexer": "ipython3",
   "version": "3.10.5"
  },
  "orig_nbformat": 4,
  "vscode": {
   "interpreter": {
    "hash": "5a3cb15560ef878c6d875e6823f4dc479d8943458a4e83d519c79c086bd81240"
   }
  }
 },
 "nbformat": 4,
 "nbformat_minor": 2
}
